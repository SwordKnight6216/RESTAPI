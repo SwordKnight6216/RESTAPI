{
 "cells": [
  {
   "cell_type": "code",
   "execution_count": 1,
   "metadata": {
    "collapsed": true
   },
   "outputs": [],
   "source": [
    "from flask import Flask, request\n",
    "from flask_restful import Resource, Api, reqparse\n",
    "from flask_jwt import JWT, jwt_required\n",
    "from security import authenticate, identity\n",
    "\n",
    "app = Flask(__name__)\n",
    "app.secret_key = 'Flash'\n",
    "\n",
    "api = Api(app)\n",
    "\n",
    "jwt = JWT(app, authenticate, identity) #new endpoint /auth"
   ]
  },
  {
   "cell_type": "code",
   "execution_count": 2,
   "metadata": {
    "collapsed": true
   },
   "outputs": [],
   "source": [
    "items = []"
   ]
  },
  {
   "cell_type": "code",
   "execution_count": 3,
   "metadata": {
    "collapsed": true
   },
   "outputs": [],
   "source": [
    "class Item(Resource):\n",
    "    parser = reqparse.RequestParser()\n",
    "    parser.add_argument('price',\n",
    "                        type=float,\n",
    "                        required=True,\n",
    "                        help='this field cannot be left blank'\n",
    "                       )\n",
    "    \n",
    "    @jwt_required()\n",
    "    def get(self,name):\n",
    "        item = next(filter(lambda x: x['name'] == name, items),None)\n",
    "        return {'item': item}, 200 if item else 404\n",
    "    \n",
    "    def post(self,name):\n",
    "        \n",
    "        if next(filter(lambda x: x['name'] == name, items),None):\n",
    "            return {'message': \"An item with name '{}' already exists.\".format(name)}, 400\n",
    "        \n",
    "        data = Item.parser.parse_args()\n",
    "        \n",
    "        data = request.get_json()\n",
    "        item = {'name':name,'price':data['price']}\n",
    "        items.append(item)\n",
    "        return item, 201\n",
    "    \n",
    "    def delete(self,name):\n",
    "        global items\n",
    "        items = list(filter(lambda x: x['name'] != name, items))\n",
    "        return {'message': 'Item delete'}\n",
    "    \n",
    "    def put(self,name):\n",
    "        data = Item.parser.parse_args()\n",
    "        item = next(filter(lambda x: x['name'] == name, items), None)\n",
    "        if item is None:\n",
    "            item = {'name': name, \"price\": data['price']}\n",
    "            items.append(item)\n",
    "        else:\n",
    "            item.update(data)\n",
    "        return item"
   ]
  },
  {
   "cell_type": "code",
   "execution_count": 4,
   "metadata": {
    "collapsed": true
   },
   "outputs": [],
   "source": [
    "class ItemList(Resource):\n",
    "    def get(self):\n",
    "        return {'items': items}, 200"
   ]
  },
  {
   "cell_type": "code",
   "execution_count": null,
   "metadata": {
    "collapsed": true
   },
   "outputs": [],
   "source": [
    "api.add_resource(Item, '/item/<string:name>')\n",
    "api.add_resource(ItemList, '/items')"
   ]
  },
  {
   "cell_type": "code",
   "execution_count": null,
   "metadata": {
    "scrolled": false
   },
   "outputs": [
    {
     "name": "stderr",
     "output_type": "stream",
     "text": [
      " * Running on http://0.0.0.0:5565/ (Press CTRL+C to quit)\n",
      "148.87.19.36 - - [01/Oct/2017 13:22:00] \"GET /items HTTP/1.1\" 200 -\n",
      "148.87.19.36 - - [01/Oct/2017 13:22:06] \"POST /auth HTTP/1.1\" 200 -\n",
      "148.87.19.36 - - [01/Oct/2017 13:22:36] \"POST /item/piano HTTP/1.1\" 201 -\n",
      "148.87.19.36 - - [01/Oct/2017 13:22:40] \"GET /items HTTP/1.1\" 200 -\n",
      "[2017-10-01 13:22:44,351] ERROR in app: Exception on /item/piano [GET]\n",
      "Traceback (most recent call last):\n",
      "  File \"/home/gordon/anaconda3/lib/python3.6/site-packages/flask_jwt/__init__.py\", line 158, in _jwt_required\n",
      "    payload = _jwt.jwt_decode_callback(token)\n",
      "  File \"/home/gordon/anaconda3/lib/python3.6/site-packages/flask_jwt/__init__.py\", line 91, in _default_jwt_decode_handler\n",
      "    return jwt.decode(token, secret, options=options, algorithms=[algorithm], leeway=leeway)\n",
      "  File \"/home/gordon/anaconda3/lib/python3.6/site-packages/jwt/api_jwt.py\", line 75, in decode\n",
      "    self._validate_claims(payload, merged_options, **kwargs)\n",
      "  File \"/home/gordon/anaconda3/lib/python3.6/site-packages/jwt/api_jwt.py\", line 104, in _validate_claims\n",
      "    self._validate_exp(payload, now, leeway)\n",
      "  File \"/home/gordon/anaconda3/lib/python3.6/site-packages/jwt/api_jwt.py\", line 149, in _validate_exp\n",
      "    raise ExpiredSignatureError('Signature has expired')\n",
      "jwt.exceptions.ExpiredSignatureError: Signature has expired\n",
      "\n",
      "During handling of the above exception, another exception occurred:\n",
      "\n",
      "Traceback (most recent call last):\n",
      "  File \"/home/gordon/anaconda3/lib/python3.6/site-packages/flask/app.py\", line 1612, in full_dispatch_request\n",
      "    rv = self.dispatch_request()\n",
      "  File \"/home/gordon/anaconda3/lib/python3.6/site-packages/flask/app.py\", line 1598, in dispatch_request\n",
      "    return self.view_functions[rule.endpoint](**req.view_args)\n",
      "  File \"/home/gordon/anaconda3/lib/python3.6/site-packages/flask_restful/__init__.py\", line 480, in wrapper\n",
      "    resp = resource(*args, **kwargs)\n",
      "  File \"/home/gordon/anaconda3/lib/python3.6/site-packages/flask/views.py\", line 84, in view\n",
      "    return self.dispatch_request(*args, **kwargs)\n",
      "  File \"/home/gordon/anaconda3/lib/python3.6/site-packages/flask_restful/__init__.py\", line 595, in dispatch_request\n",
      "    resp = meth(*args, **kwargs)\n",
      "  File \"/home/gordon/anaconda3/lib/python3.6/site-packages/flask_jwt/__init__.py\", line 176, in decorator\n",
      "    _jwt_required(realm or current_app.config['JWT_DEFAULT_REALM'])\n",
      "  File \"/home/gordon/anaconda3/lib/python3.6/site-packages/flask_jwt/__init__.py\", line 160, in _jwt_required\n",
      "    raise JWTError('Invalid token', str(e))\n",
      "flask_jwt.JWTError: Invalid token. Signature has expired\n",
      "148.87.19.36 - - [01/Oct/2017 13:22:44] \"GET /item/piano HTTP/1.1\" 500 -\n"
     ]
    }
   ],
   "source": [
    "app.run(host='0.0.0.0',port=5565)"
   ]
  },
  {
   "cell_type": "code",
   "execution_count": null,
   "metadata": {
    "collapsed": true
   },
   "outputs": [],
   "source": []
  }
 ],
 "metadata": {
  "kernelspec": {
   "display_name": "Python 3",
   "language": "python",
   "name": "python3"
  },
  "language_info": {
   "codemirror_mode": {
    "name": "ipython",
    "version": 3
   },
   "file_extension": ".py",
   "mimetype": "text/x-python",
   "name": "python",
   "nbconvert_exporter": "python",
   "pygments_lexer": "ipython3",
   "version": "3.6.2"
  }
 },
 "nbformat": 4,
 "nbformat_minor": 2
}
