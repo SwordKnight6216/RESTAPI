{
 "cells": [
  {
   "cell_type": "code",
   "execution_count": 1,
   "metadata": {
    "collapsed": true
   },
   "outputs": [],
   "source": [
    "from flask import Flask, request\n",
    "from flask_restful import Resource, Api, reqparse\n",
    "from flask_jwt import JWT, jwt_required\n",
    "from security import authenticate, identity\n",
    "\n",
    "app = Flask(__name__)\n",
    "app.secret_key = 'Flash'\n",
    "\n",
    "api = Api(app)\n",
    "\n",
    "jwt = JWT(app, authenticate, identity) #new endpoint /auth"
   ]
  },
  {
   "cell_type": "code",
   "execution_count": 2,
   "metadata": {
    "collapsed": true
   },
   "outputs": [],
   "source": [
    "items = []"
   ]
  },
  {
   "cell_type": "code",
   "execution_count": 3,
   "metadata": {},
   "outputs": [],
   "source": [
    "class Item(Resource):\n",
    "    \n",
    "    parser = reqparse.RequestParser()\n",
    "    parser.add_argument('price',\n",
    "                        type=float,\n",
    "                        required=True,\n",
    "                        help='this field cannot be left blank'\n",
    "                       )\n",
    "    \n",
    "    #@jwt_required()\n",
    "    def get(self): #\n",
    "        name = request.args.get('test') #\n",
    "        score = request.args.get('score') #\n",
    "        item = next(filter(lambda x: x['name'] == name, items),None)\n",
    "        return {'item': name,'score': score}, 200 if item else 404 #\n",
    "    \n",
    "    def post(self,name):\n",
    "        \n",
    "        if next(filter(lambda x: x['name'] == name, items),None):\n",
    "            return {'message': \"An item with name '{}' already exists.\".format(name)}, 400\n",
    "        \n",
    "        data = Item.parser.parse_args()\n",
    "        \n",
    "        data = request.get_json()\n",
    "        item = {'name':name,'price':data['price']}\n",
    "        items.append(item)\n",
    "        return item, 201\n",
    "    \n",
    "    def delete(self,name):\n",
    "        global items\n",
    "        items = list(filter(lambda x: x['name'] != name, items))\n",
    "        return {'message': 'Item delete'}\n",
    "    \n",
    "    def put(self,name):\n",
    "        data = Item.parser.parse_args()\n",
    "        item = next(filter(lambda x: x['name'] == name, items), None)\n",
    "        if item is None:\n",
    "            item = {'name': name, \"price\": data['price']}\n",
    "            items.append(item)\n",
    "        else:\n",
    "            item.update(data)\n",
    "        return item"
   ]
  },
  {
   "cell_type": "code",
   "execution_count": 4,
   "metadata": {
    "collapsed": true
   },
   "outputs": [],
   "source": [
    "class ItemList(Resource):\n",
    "    def get(self):\n",
    "        return {'items': items}, 200"
   ]
  },
  {
   "cell_type": "code",
   "execution_count": 5,
   "metadata": {
    "collapsed": true
   },
   "outputs": [],
   "source": [
    "api.add_resource(Item, '/item')\n",
    "#api.add_resource(Item, '/item/<string:name>')\n",
    "api.add_resource(ItemList, '/items')"
   ]
  },
  {
   "cell_type": "code",
   "execution_count": 6,
   "metadata": {
    "scrolled": false
   },
   "outputs": [
    {
     "name": "stderr",
     "output_type": "stream",
     "text": [
      " * Running on http://0.0.0.0:5565/ (Press CTRL+C to quit)\n",
      "148.87.19.40 - - [02/Oct/2017 17:20:34] \"GET /item?test=what&score=123 HTTP/1.1\" 404 -\n",
      "148.87.19.40 - - [02/Oct/2017 17:20:40] \"GET /item?test=what?&score=123 HTTP/1.1\" 404 -\n",
      "148.87.19.40 - - [02/Oct/2017 17:20:47] \"GET /item?test=what? HTTP/1.1\" 404 -\n"
     ]
    }
   ],
   "source": [
    "app.run(host='0.0.0.0',port=5565)"
   ]
  },
  {
   "cell_type": "code",
   "execution_count": null,
   "metadata": {
    "collapsed": true
   },
   "outputs": [],
   "source": []
  }
 ],
 "metadata": {
  "kernelspec": {
   "display_name": "Python 3",
   "language": "python",
   "name": "python3"
  },
  "language_info": {
   "codemirror_mode": {
    "name": "ipython",
    "version": 3
   },
   "file_extension": ".py",
   "mimetype": "text/x-python",
   "name": "python",
   "nbconvert_exporter": "python",
   "pygments_lexer": "ipython3",
   "version": "3.6.2"
  }
 },
 "nbformat": 4,
 "nbformat_minor": 2
}
